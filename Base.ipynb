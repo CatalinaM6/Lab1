{
  "nbformat": 4,
  "nbformat_minor": 0,
  "metadata": {
    "colab": {
      "provenance": [],


      "authorship_tag": "ABX9TyP1mCQiGjd0SG3gaNlaYW+Q",
      "include_colab_link": true
    },
    "kernelspec": {
      "name": "python3",
      "display_name": "Python 3"
    },
    "language_info": {
      "name": "python"
    }
  },
  "cells": [
    {
      "cell_type": "markdown",

      "metadata": {
        "id": "view-in-github",
        "colab_type": "text"
      },
      "source": [

        "<a href=\"https://colab.research.google.com/github/CatalinaM6/Lab1/blob/main/Base.ipynb\" target=\"_parent\"><img src=\"https://colab.research.google.com/assets/colab-badge.svg\" alt=\"Open In Colab\"/></a>"
      ]
    },
    {
      "cell_type": "markdown",
      "source": [
        "ARCHIVO BASE"
      ],
      "metadata": {
        "id": "YyT4DUGyolPD"
      }
    },
    {
      "cell_type": "code",

      "execution_count": 2,

      "metadata": {
        "colab": {
          "base_uri": "https://localhost:8080/"
        },
        "id": "4GgkR2Ysn784",
        "outputId": "6f1197b4-c818-484c-ee65-7c705219d7c3"
      },
      "outputs": [
        {
          "output_type": "stream",
          "name": "stdout",
          "text": [
            "Archivo base\n"
          ]
        }
      ],
      "source": [
        "print('Archivo base')"
      ]
    },
    {
      "cell_type": "code",
      "source": [
        "print(\"Modificado por Garcia\")"
      ],
      "metadata": {
        "colab": {
          "base_uri": "https://localhost:8080/"
        },
        "id": "6dnTpO_4pmGD",
        "outputId": "e11f1a16-75f1-40c8-c0ea-6f8da47bd86a"
      },
      "execution_count": 3,
      "outputs": [
        {
          "output_type": "stream",
          "name": "stdout",
          "text": [
            "Modificado por Garcia\n"
          ]
        }
      ]
    }
  ]
}